{
 "cells": [
  {
   "cell_type": "code",
   "execution_count": 1,
   "metadata": {
    "colab": {
     "base_uri": "https://localhost:8080/"
    },
    "id": "a_KW73O2e3dw",
    "outputId": "fa5fd2b3-e2de-491b-ee1c-405317ba7ebc"
   },
   "outputs": [],
   "source": [
    "# Import findspark and initialize. \n",
    "import findspark\n",
    "findspark.init()"
   ]
  },
  {
   "cell_type": "code",
   "execution_count": 2,
   "metadata": {
    "id": "2XbWNf1Te5fM"
   },
   "outputs": [
    {
     "name": "stderr",
     "output_type": "stream",
     "text": [
      "23/08/22 11:29:06 WARN Utils: Your hostname, Grahams-MacBook-Pro.local resolves to a loopback address: 127.0.0.1; using 10.169.1.168 instead (on interface en0)\n",
      "23/08/22 11:29:06 WARN Utils: Set SPARK_LOCAL_IP if you need to bind to another address\n",
      "Setting default log level to \"WARN\".\n",
      "To adjust logging level use sc.setLogLevel(newLevel). For SparkR, use setLogLevel(newLevel).\n",
      "23/08/22 11:29:07 WARN NativeCodeLoader: Unable to load native-hadoop library for your platform... using builtin-java classes where applicable\n"
     ]
    }
   ],
   "source": [
    "# Import packages\n",
    "from pyspark.sql import SparkSession\n",
    "import time\n",
    "\n",
    "# Create a SparkSession\n",
    "spark = SparkSession.builder.appName(\"SparkSQL\").getOrCreate()"
   ]
  },
  {
   "cell_type": "code",
   "execution_count": 3,
   "metadata": {
    "colab": {
     "base_uri": "https://localhost:8080/"
    },
    "id": "wOJqxG_RPSwp",
    "outputId": "7857ef9f-5b04-405d-f5aa-e535dfe7870c"
   },
   "outputs": [
    {
     "name": "stderr",
     "output_type": "stream",
     "text": [
      "                                                                                \r"
     ]
    }
   ],
   "source": [
    "# 1. Read in the AWS S3 bucket into a DataFrame.\n",
    "from pyspark import SparkFiles\n",
    "url = \"https://2u-data-curriculum-team.s3.amazonaws.com/dataviz-classroom/v1.2/22-big-data/home_sales_revised.csv\"\n",
    "\n",
    "# Read data from AWS S3 into a DataFrame\n",
    "url = \"https://2u-data-curriculum-team.s3.amazonaws.com/dataviz-classroom/v1.2/22-big-data/home_sales_revised.csv\"\n",
    "spark.sparkContext.addFile(url)\n",
    "file_path = \"file://\" + SparkFiles.get(\"home_sales_revised.csv\")\n",
    "\n",
    "# Read the CSV file into a DataFrame\n",
    "df = spark.read.csv(file_path, header=True, inferSchema=True)\n",
    "\n",
    "# Create a temporary view of the DataFrame\n",
    "view_name = \"home_sales_view\"\n",
    "df.createOrReplaceTempView(view_name)"
   ]
  },
  {
   "cell_type": "code",
   "execution_count": 4,
   "metadata": {
    "id": "RoljcJ7WPpnm",
    "scrolled": true
   },
   "outputs": [
    {
     "name": "stdout",
     "output_type": "stream",
     "text": [
      "['id', 'date', 'date_built', 'price', 'bedrooms', 'bathrooms', 'sqft_living', 'sqft_lot', 'floors', 'waterfront', 'view']\n",
      "root\n",
      " |-- id: string (nullable = true)\n",
      " |-- date: date (nullable = true)\n",
      " |-- date_built: integer (nullable = true)\n",
      " |-- price: integer (nullable = true)\n",
      " |-- bedrooms: integer (nullable = true)\n",
      " |-- bathrooms: integer (nullable = true)\n",
      " |-- sqft_living: integer (nullable = true)\n",
      " |-- sqft_lot: integer (nullable = true)\n",
      " |-- floors: integer (nullable = true)\n",
      " |-- waterfront: integer (nullable = true)\n",
      " |-- view: integer (nullable = true)\n",
      "\n"
     ]
    }
   ],
   "source": [
    "# Verify the column names and structure in the DataFrame\n",
    "print(df.columns)  # Check the list of column names\n",
    "\n",
    "# Check the schema of the DataFrame\n",
    "df.printSchema()\n",
    "\n"
   ]
  },
  {
   "cell_type": "code",
   "execution_count": 5,
   "metadata": {
    "colab": {
     "base_uri": "https://localhost:8080/"
    },
    "id": "L6fkwOeOmqvq",
    "outputId": "bdded620-79c4-488d-c7a5-91c6799c419e"
   },
   "outputs": [
    {
     "name": "stdout",
     "output_type": "stream",
     "text": [
      "+----+---------+\n",
      "|year|avg_price|\n",
      "+----+---------+\n",
      "|2019| 300263.7|\n",
      "|2020|298353.78|\n",
      "|2021|301819.44|\n",
      "|2022|296363.88|\n",
      "+----+---------+\n",
      "\n"
     ]
    }
   ],
   "source": [
    "# 3. What is the average price for a four bedroom house sold in each year rounded to two decimal places?\n",
    "# Run SQL query to calculate the average price for a four-bedroom house sold in each year\n",
    "query = \"\"\"\n",
    "    SELECT YEAR(date) AS year, ROUND(AVG(price), 2) AS avg_price\n",
    "    FROM home_sales_view\n",
    "    WHERE bedrooms = 4\n",
    "    GROUP BY year\n",
    "    ORDER BY year\n",
    "\"\"\"\n",
    "\n",
    "# Execute the query and show the result\n",
    "result = spark.sql(query)\n",
    "result.show()\n",
    "\n"
   ]
  },
  {
   "cell_type": "code",
   "execution_count": 6,
   "metadata": {
    "colab": {
     "base_uri": "https://localhost:8080/"
    },
    "id": "l8p_tUS8h8it",
    "outputId": "65806e5f-6262-41c0-ff65-5107464e5c4d"
   },
   "outputs": [
    {
     "name": "stdout",
     "output_type": "stream",
     "text": [
      "+----------+---------+\n",
      "|date_built|avg_price|\n",
      "+----------+---------+\n",
      "|      2010|292859.62|\n",
      "|      2011|291117.47|\n",
      "|      2012|293683.19|\n",
      "|      2013|295962.27|\n",
      "|      2014|290852.27|\n",
      "|      2015| 288770.3|\n",
      "|      2016|290555.07|\n",
      "|      2017|292676.79|\n",
      "+----------+---------+\n",
      "\n"
     ]
    }
   ],
   "source": [
    "# 4. What is the average price of a home for each year the home was built that have 3 bedrooms and 3 bathrooms rounded to two decimal places?\n",
    "\n",
    "# Query to calculate the average price for homes with 3 bedrooms and 3 bathrooms for each year built\n",
    "query = \"\"\"\n",
    "    SELECT date_built, ROUND(AVG(price), 2) AS avg_price\n",
    "    FROM home_sales_view\n",
    "    WHERE bedrooms = 3 AND bathrooms = 3\n",
    "    GROUP BY date_built\n",
    "    ORDER BY date_built\n",
    "\"\"\"\n",
    "\n",
    "# Execute the query and show the result\n",
    "result = spark.sql(query)\n",
    "result.show()\n"
   ]
  },
  {
   "cell_type": "code",
   "execution_count": 7,
   "metadata": {
    "colab": {
     "base_uri": "https://localhost:8080/"
    },
    "id": "Y-Eytz64liDU",
    "outputId": "17119810-56ad-40c3-de5e-c3db57e43bcc"
   },
   "outputs": [
    {
     "name": "stdout",
     "output_type": "stream",
     "text": [
      "+----------+---------+\n",
      "|date_built|avg_price|\n",
      "+----------+---------+\n",
      "|      2010|285010.22|\n",
      "|      2011|276553.81|\n",
      "|      2012|307539.97|\n",
      "|      2013|303676.79|\n",
      "|      2014|298264.72|\n",
      "|      2015|297609.97|\n",
      "|      2016| 293965.1|\n",
      "|      2017|280317.58|\n",
      "+----------+---------+\n",
      "\n"
     ]
    }
   ],
   "source": [
    "#  5. What is the average price of a home for each year built that have 3 bedrooms, 3 bathrooms, with two floors,\n",
    "# and are greater than or equal to 2,000 square feet rounded to two decimal places?\n",
    "\n",
    "# Query to calculate the average price for homes with specific criteria\n",
    "query = \"\"\"\n",
    "    SELECT date_built, ROUND(AVG(price), 2) AS avg_price\n",
    "    FROM home_sales_view\n",
    "    WHERE bedrooms = 3 AND bathrooms = 3 AND floors = 2 AND sqft_living >= 2000\n",
    "    GROUP BY date_built\n",
    "    ORDER BY date_built\n",
    "\"\"\"\n",
    "\n",
    "# Execute the query and show the result\n",
    "result = spark.sql(query)\n",
    "result.show()\n"
   ]
  },
  {
   "cell_type": "code",
   "execution_count": 8,
   "metadata": {
    "colab": {
     "base_uri": "https://localhost:8080/"
    },
    "id": "GUrfgOX1pCRd",
    "outputId": "17c25774-855e-4290-a4bd-a04902bdc13a"
   },
   "outputs": [
    {
     "name": "stdout",
     "output_type": "stream",
     "text": [
      "+----+----------+\n",
      "|view| avg_price|\n",
      "+----+----------+\n",
      "|  31| 399856.95|\n",
      "|  85|1056336.74|\n",
      "|  65| 736679.93|\n",
      "|  53|  755214.8|\n",
      "|  78|1080649.37|\n",
      "|  34| 401419.75|\n",
      "|  81|1053472.79|\n",
      "|  28| 402124.62|\n",
      "|  76|1058802.78|\n",
      "|  26| 401506.97|\n",
      "|  27| 399537.66|\n",
      "|  44| 400598.05|\n",
      "|  12| 401501.32|\n",
      "|  91|1137372.73|\n",
      "|  22| 402022.68|\n",
      "|  93|1026006.06|\n",
      "|  47|  398447.5|\n",
      "|   1| 401044.25|\n",
      "|  52| 733780.26|\n",
      "|  13| 398917.98|\n",
      "+----+----------+\n",
      "only showing top 20 rows\n",
      "\n",
      "--- 7.605552673339844e-05 seconds ---\n"
     ]
    }
   ],
   "source": [
    "# 6. What is the \"view\" rating for the average price of a home, rounded to two decimal places, where the homes are greater than\n",
    "# or equal to $350,000? Although this is a small dataset, determine the run time for this query.\n",
    "\n",
    "query = \"\"\"\n",
    "    SELECT view, ROUND(AVG(price), 2) AS avg_price\n",
    "    FROM home_sales_view\n",
    "    WHERE price >= 350000\n",
    "    GROUP BY view\n",
    "\"\"\"\n",
    "result = spark.sql(query)\n",
    "result.show()\n",
    "\n",
    "\n",
    "start_time = time.time()\n",
    "\n",
    "\n",
    "\n",
    "print(\"--- %s seconds ---\" % (time.time() - start_time))"
   ]
  },
  {
   "cell_type": "code",
   "execution_count": null,
   "metadata": {
    "colab": {
     "base_uri": "https://localhost:8080/"
    },
    "id": "KAhk3ZD2tFy8",
    "outputId": "0a8f132d-40a8-4bd4-b5f2-2847e98427f5"
   },
   "outputs": [],
   "source": []
  },
  {
   "cell_type": "code",
   "execution_count": 11,
   "metadata": {
    "colab": {
     "base_uri": "https://localhost:8080/"
    },
    "id": "4opVhbvxtL-i",
    "outputId": "38ec8487-795f-4550-b50c-fcc6f2b7c769"
   },
   "outputs": [
    {
     "name": "stderr",
     "output_type": "stream",
     "text": [
      "23/08/22 11:31:15 WARN CacheManager: Asked to cache already cached data.\n"
     ]
    }
   ],
   "source": [
    "# Cache the table\n",
    "spark.catalog.cacheTable(\"home_sales_view\")\n",
    "\n",
    "# Check if the table is cached\n",
    "is_cached = spark.table(\"home_sales_view\").is_cached\n",
    "\n"
   ]
  },
  {
   "cell_type": "code",
   "execution_count": 12,
   "metadata": {
    "colab": {
     "base_uri": "https://localhost:8080/"
    },
    "id": "5GnL46lwTSEk",
    "outputId": "09a16c73-194d-4371-95d1-ee64fe83b91c"
   },
   "outputs": [
    {
     "name": "stdout",
     "output_type": "stream",
     "text": [
      "+----+----------+\n",
      "|view| avg_price|\n",
      "+----+----------+\n",
      "|  91|1137372.73|\n",
      "|  97|1129040.15|\n",
      "|  84|1117233.13|\n",
      "|  75|1114042.94|\n",
      "|  89|1107839.15|\n",
      "|  78|1080649.37|\n",
      "|  77|1076205.56|\n",
      "|  87| 1072285.2|\n",
      "|  86|1070444.25|\n",
      "|  82| 1063498.0|\n",
      "|  90|1062654.16|\n",
      "|  99|1061201.42|\n",
      "|  76|1058802.78|\n",
      "|  85|1056336.74|\n",
      "|  95| 1054325.6|\n",
      "|  98|1053739.33|\n",
      "|  81|1053472.79|\n",
      "|  83|1033965.93|\n",
      "|  94| 1033536.2|\n",
      "|  88|1031719.35|\n",
      "+----+----------+\n",
      "only showing top 20 rows\n",
      "\n",
      "Uncached Runtime: 0.6558511257171631 seconds\n",
      "+----+----------+\n",
      "|view| avg_price|\n",
      "+----+----------+\n",
      "|  91|1137372.73|\n",
      "|  97|1129040.15|\n",
      "|  84|1117233.13|\n",
      "|  75|1114042.94|\n",
      "|  89|1107839.15|\n",
      "|  78|1080649.37|\n",
      "|  77|1076205.56|\n",
      "|  87| 1072285.2|\n",
      "|  86|1070444.25|\n",
      "|  82| 1063498.0|\n",
      "|  90|1062654.16|\n",
      "|  99|1061201.42|\n",
      "|  76|1058802.78|\n",
      "|  85|1056336.74|\n",
      "|  95| 1054325.6|\n",
      "|  98|1053739.33|\n",
      "|  81|1053472.79|\n",
      "|  83|1033965.93|\n",
      "|  94| 1033536.2|\n",
      "|  88|1031719.35|\n",
      "+----+----------+\n",
      "only showing top 20 rows\n",
      "\n",
      "Cached Runtime: 0.1865699291229248 seconds\n"
     ]
    },
    {
     "name": "stderr",
     "output_type": "stream",
     "text": [
      "23/08/22 11:32:21 WARN CacheManager: Asked to cache already cached data.\n"
     ]
    }
   ],
   "source": [
    "# 9. Using the cached data, run the query that filters out the view ratings with average price \n",
    "#  greater than or equal to $350,000. Determine the runtime and compare it to uncached runtime.\n",
    "\n",
    "# Uncached Query\n",
    "start_time_uncached = time.time()\n",
    "\n",
    "# Run the query without using cached data\n",
    "query_uncached = \"\"\"\n",
    "    SELECT view, ROUND(AVG(price), 2) AS avg_price\n",
    "    FROM home_sales_view\n",
    "    WHERE price >= 350000\n",
    "    GROUP BY view\n",
    "    ORDER BY avg_price DESC\n",
    "\"\"\"\n",
    "result_uncached = spark.sql(query_uncached)\n",
    "result_uncached.show()\n",
    "\n",
    "uncached_runtime = time.time() - start_time_uncached\n",
    "print(\"Uncached Runtime:\", uncached_runtime, \"seconds\")\n",
    "\n",
    "# Cache the table\n",
    "spark.catalog.cacheTable(\"home_sales_view\")\n",
    "\n",
    "# Cached Query\n",
    "start_time_cached = time.time()\n",
    "\n",
    "# Run the same query using cached data\n",
    "query_cached = \"\"\"\n",
    "    SELECT view, ROUND(AVG(price), 2) AS avg_price\n",
    "    FROM home_sales_view\n",
    "    WHERE price >= 350000\n",
    "    GROUP BY view\n",
    "    ORDER BY avg_price DESC\n",
    "\"\"\"\n",
    "result_cached = spark.sql(query_cached)\n",
    "result_cached.show()\n",
    "\n",
    "cached_runtime = time.time() - start_time_cached\n",
    "print(\"Cached Runtime:\", cached_runtime, \"seconds\")\n",
    "\n"
   ]
  },
  {
   "cell_type": "code",
   "execution_count": 13,
   "metadata": {
    "id": "Qm12WN9isHBR"
   },
   "outputs": [
    {
     "name": "stderr",
     "output_type": "stream",
     "text": [
      "                                                                                \r"
     ]
    }
   ],
   "source": [
    "# 10. Partition by the \"date_built\" field on the formatted parquet home sales data \n",
    "# Write the DataFrame to Parquet partitioned by \"date_built\"\n",
    "partition_column = \"date_built\"\n",
    "output_path = \"path_to_output_directory\"\n",
    "\n",
    "df.write.partitionBy(partition_column).parquet(output_path)\n"
   ]
  },
  {
   "cell_type": "code",
   "execution_count": 14,
   "metadata": {
    "id": "AZ7BgY61sRqY"
   },
   "outputs": [],
   "source": [
    "# 11. Read the formatted parquet data.\n",
    "\n",
    "partitioned_data_path = \"path_to_output_directory\"\n",
    "\n",
    "partitioned_df = spark.read.parquet(partitioned_data_path)\n"
   ]
  },
  {
   "cell_type": "code",
   "execution_count": 15,
   "metadata": {
    "id": "J6MJkHfvVcvh"
   },
   "outputs": [],
   "source": [
    "# 12. Create a temporary table for the parquet data.\n",
    "\n",
    "view_name = \"partitioned_home_sales_view\"\n",
    "partitioned_df.createOrReplaceTempView(view_name)\n"
   ]
  },
  {
   "cell_type": "code",
   "execution_count": 16,
   "metadata": {
    "colab": {
     "base_uri": "https://localhost:8080/"
    },
    "id": "G_Vhb52rU1Sn",
    "outputId": "a0b8d0c4-55ed-4c6c-bfd8-4c8c5334838e"
   },
   "outputs": [
    {
     "name": "stdout",
     "output_type": "stream",
     "text": [
      "+----+----------+\n",
      "|view| avg_price|\n",
      "+----+----------+\n",
      "|  31| 399856.95|\n",
      "|  85|1056336.74|\n",
      "|  65| 736679.93|\n",
      "|  53|  755214.8|\n",
      "|  78|1080649.37|\n",
      "|  34| 401419.75|\n",
      "|  81|1053472.79|\n",
      "|  28| 402124.62|\n",
      "|  76|1058802.78|\n",
      "|  26| 401506.97|\n",
      "|  27| 399537.66|\n",
      "|  44| 400598.05|\n",
      "|  12| 401501.32|\n",
      "|  91|1137372.73|\n",
      "|  22| 402022.68|\n",
      "|  93|1026006.06|\n",
      "|  47|  398447.5|\n",
      "|   1| 401044.25|\n",
      "|  52| 733780.26|\n",
      "|  13| 398917.98|\n",
      "+----+----------+\n",
      "only showing top 20 rows\n",
      "\n",
      "--- 0.5871067047119141 seconds ---\n"
     ]
    }
   ],
   "source": [
    "# 13. Run the query that filters out the view ratings with average price of greater than or eqaul to $350,000 \n",
    "# with the parquet DataFrame. Round your average to two decimal places. \n",
    "# Determine the runtime and compare it to the cached version. \n",
    "\n",
    "# Define the query\n",
    "query = \"\"\"\n",
    "    SELECT view, ROUND(AVG(price), 2) AS avg_price\n",
    "    FROM partitioned_home_sales_view\n",
    "    WHERE price >= 350000\n",
    "    GROUP BY view\n",
    "\"\"\"\n",
    "\n",
    "# Calculate runtime\n",
    "start_time = time.time()\n",
    "\n",
    "# Execute the query and show the result\n",
    "result = spark.sql(query)\n",
    "result.show()\n",
    "\n",
    "print(\"--- %s seconds ---\" % (time.time() - start_time))\n"
   ]
  },
  {
   "cell_type": "code",
   "execution_count": 17,
   "metadata": {
    "colab": {
     "base_uri": "https://localhost:8080/"
    },
    "id": "hjjYzQGjtbq8",
    "outputId": "830549fd-bb41-451b-9183-5ebf6e3e470b"
   },
   "outputs": [],
   "source": [
    "# 14. Uncache the home_sales temporary table.\n",
    "spark.catalog.uncacheTable(\"home_sales_view\")\n"
   ]
  },
  {
   "cell_type": "code",
   "execution_count": 18,
   "metadata": {
    "colab": {
     "base_uri": "https://localhost:8080/"
    },
    "id": "Sy9NBvO7tlmm",
    "outputId": "be73e0e3-5e85-4794-aad9-025fb6fa84a7"
   },
   "outputs": [
    {
     "name": "stdout",
     "output_type": "stream",
     "text": [
      "Is home_sales_view cached: False\n"
     ]
    }
   ],
   "source": [
    "# 15. Check if the home_sales is no longer cached\n",
    "is_cached = spark.table(\"home_sales_view\").is_cached\n",
    "print(\"Is home_sales_view cached:\", is_cached)\n",
    "\n"
   ]
  },
  {
   "cell_type": "code",
   "execution_count": null,
   "metadata": {},
   "outputs": [],
   "source": []
  }
 ],
 "metadata": {
  "colab": {
   "collapsed_sections": [],
   "name": "Copy of Home_Sales_solution.ipynb",
   "provenance": []
  },
  "kernelspec": {
   "display_name": "Python 3 (ipykernel)",
   "language": "python",
   "name": "python3"
  },
  "language_info": {
   "codemirror_mode": {
    "name": "ipython",
    "version": 3
   },
   "file_extension": ".py",
   "mimetype": "text/x-python",
   "name": "python",
   "nbconvert_exporter": "python",
   "pygments_lexer": "ipython3",
   "version": "3.10.9"
  },
  "nteract": {
   "version": "0.28.0"
  }
 },
 "nbformat": 4,
 "nbformat_minor": 1
}
